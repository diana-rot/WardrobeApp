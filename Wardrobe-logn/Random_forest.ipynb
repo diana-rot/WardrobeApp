{
 "nbformat": 4,
 "nbformat_minor": 0,
 "metadata": {
  "colab": {
   "name": "Random_forest.ipynb",
   "provenance": [],
   "collapsed_sections": [],
   "authorship_tag": "ABX9TyPhXd/kphVvnxtKgioLNbw5"
  },
  "kernelspec": {
   "name": "python3",
   "display_name": "Python 3"
  },
  "language_info": {
   "name": "python"
  }
 },
 "cells": [
  {
   "cell_type": "code",
   "execution_count": null,
   "metadata": {
    "colab": {
     "base_uri": "https://localhost:8080/"
    },
    "id": "cgI3K1-MiMVE",
    "executionInfo": {
     "status": "ok",
     "timestamp": 1656784765630,
     "user_tz": -180,
     "elapsed": 1258,
     "user": {
      "displayName": "Rotila Diana",
      "userId": "16213959066184773030"
     }
    },
    "outputId": "0636b6eb-863b-4010-86a7-aacdb17bde1c"
   },
   "outputs": [
    {
     "output_type": "stream",
     "name": "stdout",
     "text": [
      "Libraries Imported\n"
     ]
    }
   ],
   "source": [
    "import numpy as np\n",
    "import pandas as pd\n",
    "from sklearn.model_selection import train_test_split\n",
    "from sklearn.preprocessing import StandardScaler\n",
    "from sklearn.ensemble import RandomForestClassifier\n",
    "from sklearn.metrics import confusion_matrix\n",
    "print('Libraries Imported')"
   ]
  },
  {
   "cell_type": "code",
   "source": [
    "import joblib"
   ],
   "metadata": {
    "id": "eGayDk2RjAld"
   },
   "execution_count": null,
   "outputs": []
  },
  {
   "cell_type": "code",
   "source": [
    "import pandas as pd\n",
    "import numpy as np"
   ],
   "metadata": {
    "id": "WctD1jPZ91cz"
   },
   "execution_count": null,
   "outputs": []
  },
  {
   "cell_type": "code",
   "source": [
    "dataset = pd.read_csv('haine.csv')"
   ],
   "metadata": {
    "id": "b1Cw4_lr92x7",
    "colab": {
     "base_uri": "https://localhost:8080/",
     "height": 323
    },
    "executionInfo": {
     "status": "error",
     "timestamp": 1655646737688,
     "user_tz": -180,
     "elapsed": 700,
     "user": {
      "displayName": "Rotila Diana",
      "userId": "16213959066184773030"
     }
    },
    "outputId": "90ae9ad9-2d7a-48cc-cb53-39e596a19d5d"
   },
   "execution_count": null,
   "outputs": [
    {
     "output_type": "error",
     "ename": "FileNotFoundError",
     "evalue": "ignored",
     "traceback": [
      "\u001B[0;31m---------------------------------------------------------------------------\u001B[0m",
      "\u001B[0;31mFileNotFoundError\u001B[0m                         Traceback (most recent call last)",
      "\u001B[0;32m<ipython-input-4-4a16d756332f>\u001B[0m in \u001B[0;36m<module>\u001B[0;34m()\u001B[0m\n\u001B[0;32m----> 1\u001B[0;31m \u001B[0mdataset\u001B[0m \u001B[0;34m=\u001B[0m \u001B[0mpd\u001B[0m\u001B[0;34m.\u001B[0m\u001B[0mread_csv\u001B[0m\u001B[0;34m(\u001B[0m\u001B[0;34m'haine.csv'\u001B[0m\u001B[0;34m)\u001B[0m\u001B[0;34m\u001B[0m\u001B[0;34m\u001B[0m\u001B[0m\n\u001B[0m",
      "\u001B[0;32m/usr/local/lib/python3.7/dist-packages/pandas/util/_decorators.py\u001B[0m in \u001B[0;36mwrapper\u001B[0;34m(*args, **kwargs)\u001B[0m\n\u001B[1;32m    309\u001B[0m                     \u001B[0mstacklevel\u001B[0m\u001B[0;34m=\u001B[0m\u001B[0mstacklevel\u001B[0m\u001B[0;34m,\u001B[0m\u001B[0;34m\u001B[0m\u001B[0;34m\u001B[0m\u001B[0m\n\u001B[1;32m    310\u001B[0m                 )\n\u001B[0;32m--> 311\u001B[0;31m             \u001B[0;32mreturn\u001B[0m \u001B[0mfunc\u001B[0m\u001B[0;34m(\u001B[0m\u001B[0;34m*\u001B[0m\u001B[0margs\u001B[0m\u001B[0;34m,\u001B[0m \u001B[0;34m**\u001B[0m\u001B[0mkwargs\u001B[0m\u001B[0;34m)\u001B[0m\u001B[0;34m\u001B[0m\u001B[0;34m\u001B[0m\u001B[0m\n\u001B[0m\u001B[1;32m    312\u001B[0m \u001B[0;34m\u001B[0m\u001B[0m\n\u001B[1;32m    313\u001B[0m         \u001B[0;32mreturn\u001B[0m \u001B[0mwrapper\u001B[0m\u001B[0;34m\u001B[0m\u001B[0;34m\u001B[0m\u001B[0m\n",
      "\u001B[0;32m/usr/local/lib/python3.7/dist-packages/pandas/io/parsers/readers.py\u001B[0m in \u001B[0;36mread_csv\u001B[0;34m(filepath_or_buffer, sep, delimiter, header, names, index_col, usecols, squeeze, prefix, mangle_dupe_cols, dtype, engine, converters, true_values, false_values, skipinitialspace, skiprows, skipfooter, nrows, na_values, keep_default_na, na_filter, verbose, skip_blank_lines, parse_dates, infer_datetime_format, keep_date_col, date_parser, dayfirst, cache_dates, iterator, chunksize, compression, thousands, decimal, lineterminator, quotechar, quoting, doublequote, escapechar, comment, encoding, encoding_errors, dialect, error_bad_lines, warn_bad_lines, on_bad_lines, delim_whitespace, low_memory, memory_map, float_precision, storage_options)\u001B[0m\n\u001B[1;32m    584\u001B[0m     \u001B[0mkwds\u001B[0m\u001B[0;34m.\u001B[0m\u001B[0mupdate\u001B[0m\u001B[0;34m(\u001B[0m\u001B[0mkwds_defaults\u001B[0m\u001B[0;34m)\u001B[0m\u001B[0;34m\u001B[0m\u001B[0;34m\u001B[0m\u001B[0m\n\u001B[1;32m    585\u001B[0m \u001B[0;34m\u001B[0m\u001B[0m\n\u001B[0;32m--> 586\u001B[0;31m     \u001B[0;32mreturn\u001B[0m \u001B[0m_read\u001B[0m\u001B[0;34m(\u001B[0m\u001B[0mfilepath_or_buffer\u001B[0m\u001B[0;34m,\u001B[0m \u001B[0mkwds\u001B[0m\u001B[0;34m)\u001B[0m\u001B[0;34m\u001B[0m\u001B[0;34m\u001B[0m\u001B[0m\n\u001B[0m\u001B[1;32m    587\u001B[0m \u001B[0;34m\u001B[0m\u001B[0m\n\u001B[1;32m    588\u001B[0m \u001B[0;34m\u001B[0m\u001B[0m\n",
      "\u001B[0;32m/usr/local/lib/python3.7/dist-packages/pandas/io/parsers/readers.py\u001B[0m in \u001B[0;36m_read\u001B[0;34m(filepath_or_buffer, kwds)\u001B[0m\n\u001B[1;32m    480\u001B[0m \u001B[0;34m\u001B[0m\u001B[0m\n\u001B[1;32m    481\u001B[0m     \u001B[0;31m# Create the parser.\u001B[0m\u001B[0;34m\u001B[0m\u001B[0;34m\u001B[0m\u001B[0;34m\u001B[0m\u001B[0m\n\u001B[0;32m--> 482\u001B[0;31m     \u001B[0mparser\u001B[0m \u001B[0;34m=\u001B[0m \u001B[0mTextFileReader\u001B[0m\u001B[0;34m(\u001B[0m\u001B[0mfilepath_or_buffer\u001B[0m\u001B[0;34m,\u001B[0m \u001B[0;34m**\u001B[0m\u001B[0mkwds\u001B[0m\u001B[0;34m)\u001B[0m\u001B[0;34m\u001B[0m\u001B[0;34m\u001B[0m\u001B[0m\n\u001B[0m\u001B[1;32m    483\u001B[0m \u001B[0;34m\u001B[0m\u001B[0m\n\u001B[1;32m    484\u001B[0m     \u001B[0;32mif\u001B[0m \u001B[0mchunksize\u001B[0m \u001B[0;32mor\u001B[0m \u001B[0miterator\u001B[0m\u001B[0;34m:\u001B[0m\u001B[0;34m\u001B[0m\u001B[0;34m\u001B[0m\u001B[0m\n",
      "\u001B[0;32m/usr/local/lib/python3.7/dist-packages/pandas/io/parsers/readers.py\u001B[0m in \u001B[0;36m__init__\u001B[0;34m(self, f, engine, **kwds)\u001B[0m\n\u001B[1;32m    809\u001B[0m             \u001B[0mself\u001B[0m\u001B[0;34m.\u001B[0m\u001B[0moptions\u001B[0m\u001B[0;34m[\u001B[0m\u001B[0;34m\"has_index_names\"\u001B[0m\u001B[0;34m]\u001B[0m \u001B[0;34m=\u001B[0m \u001B[0mkwds\u001B[0m\u001B[0;34m[\u001B[0m\u001B[0;34m\"has_index_names\"\u001B[0m\u001B[0;34m]\u001B[0m\u001B[0;34m\u001B[0m\u001B[0;34m\u001B[0m\u001B[0m\n\u001B[1;32m    810\u001B[0m \u001B[0;34m\u001B[0m\u001B[0m\n\u001B[0;32m--> 811\u001B[0;31m         \u001B[0mself\u001B[0m\u001B[0;34m.\u001B[0m\u001B[0m_engine\u001B[0m \u001B[0;34m=\u001B[0m \u001B[0mself\u001B[0m\u001B[0;34m.\u001B[0m\u001B[0m_make_engine\u001B[0m\u001B[0;34m(\u001B[0m\u001B[0mself\u001B[0m\u001B[0;34m.\u001B[0m\u001B[0mengine\u001B[0m\u001B[0;34m)\u001B[0m\u001B[0;34m\u001B[0m\u001B[0;34m\u001B[0m\u001B[0m\n\u001B[0m\u001B[1;32m    812\u001B[0m \u001B[0;34m\u001B[0m\u001B[0m\n\u001B[1;32m    813\u001B[0m     \u001B[0;32mdef\u001B[0m \u001B[0mclose\u001B[0m\u001B[0;34m(\u001B[0m\u001B[0mself\u001B[0m\u001B[0;34m)\u001B[0m\u001B[0;34m:\u001B[0m\u001B[0;34m\u001B[0m\u001B[0;34m\u001B[0m\u001B[0m\n",
      "\u001B[0;32m/usr/local/lib/python3.7/dist-packages/pandas/io/parsers/readers.py\u001B[0m in \u001B[0;36m_make_engine\u001B[0;34m(self, engine)\u001B[0m\n\u001B[1;32m   1038\u001B[0m             )\n\u001B[1;32m   1039\u001B[0m         \u001B[0;31m# error: Too many arguments for \"ParserBase\"\u001B[0m\u001B[0;34m\u001B[0m\u001B[0;34m\u001B[0m\u001B[0;34m\u001B[0m\u001B[0m\n\u001B[0;32m-> 1040\u001B[0;31m         \u001B[0;32mreturn\u001B[0m \u001B[0mmapping\u001B[0m\u001B[0;34m[\u001B[0m\u001B[0mengine\u001B[0m\u001B[0;34m]\u001B[0m\u001B[0;34m(\u001B[0m\u001B[0mself\u001B[0m\u001B[0;34m.\u001B[0m\u001B[0mf\u001B[0m\u001B[0;34m,\u001B[0m \u001B[0;34m**\u001B[0m\u001B[0mself\u001B[0m\u001B[0;34m.\u001B[0m\u001B[0moptions\u001B[0m\u001B[0;34m)\u001B[0m  \u001B[0;31m# type: ignore[call-arg]\u001B[0m\u001B[0;34m\u001B[0m\u001B[0;34m\u001B[0m\u001B[0m\n\u001B[0m\u001B[1;32m   1041\u001B[0m \u001B[0;34m\u001B[0m\u001B[0m\n\u001B[1;32m   1042\u001B[0m     \u001B[0;32mdef\u001B[0m \u001B[0m_failover_to_python\u001B[0m\u001B[0;34m(\u001B[0m\u001B[0mself\u001B[0m\u001B[0;34m)\u001B[0m\u001B[0;34m:\u001B[0m\u001B[0;34m\u001B[0m\u001B[0;34m\u001B[0m\u001B[0m\n",
      "\u001B[0;32m/usr/local/lib/python3.7/dist-packages/pandas/io/parsers/c_parser_wrapper.py\u001B[0m in \u001B[0;36m__init__\u001B[0;34m(self, src, **kwds)\u001B[0m\n\u001B[1;32m     49\u001B[0m \u001B[0;34m\u001B[0m\u001B[0m\n\u001B[1;32m     50\u001B[0m         \u001B[0;31m# open handles\u001B[0m\u001B[0;34m\u001B[0m\u001B[0;34m\u001B[0m\u001B[0;34m\u001B[0m\u001B[0m\n\u001B[0;32m---> 51\u001B[0;31m         \u001B[0mself\u001B[0m\u001B[0;34m.\u001B[0m\u001B[0m_open_handles\u001B[0m\u001B[0;34m(\u001B[0m\u001B[0msrc\u001B[0m\u001B[0;34m,\u001B[0m \u001B[0mkwds\u001B[0m\u001B[0;34m)\u001B[0m\u001B[0;34m\u001B[0m\u001B[0;34m\u001B[0m\u001B[0m\n\u001B[0m\u001B[1;32m     52\u001B[0m         \u001B[0;32massert\u001B[0m \u001B[0mself\u001B[0m\u001B[0;34m.\u001B[0m\u001B[0mhandles\u001B[0m \u001B[0;32mis\u001B[0m \u001B[0;32mnot\u001B[0m \u001B[0;32mNone\u001B[0m\u001B[0;34m\u001B[0m\u001B[0;34m\u001B[0m\u001B[0m\n\u001B[1;32m     53\u001B[0m \u001B[0;34m\u001B[0m\u001B[0m\n",
      "\u001B[0;32m/usr/local/lib/python3.7/dist-packages/pandas/io/parsers/base_parser.py\u001B[0m in \u001B[0;36m_open_handles\u001B[0;34m(self, src, kwds)\u001B[0m\n\u001B[1;32m    227\u001B[0m             \u001B[0mmemory_map\u001B[0m\u001B[0;34m=\u001B[0m\u001B[0mkwds\u001B[0m\u001B[0;34m.\u001B[0m\u001B[0mget\u001B[0m\u001B[0;34m(\u001B[0m\u001B[0;34m\"memory_map\"\u001B[0m\u001B[0;34m,\u001B[0m \u001B[0;32mFalse\u001B[0m\u001B[0;34m)\u001B[0m\u001B[0;34m,\u001B[0m\u001B[0;34m\u001B[0m\u001B[0;34m\u001B[0m\u001B[0m\n\u001B[1;32m    228\u001B[0m             \u001B[0mstorage_options\u001B[0m\u001B[0;34m=\u001B[0m\u001B[0mkwds\u001B[0m\u001B[0;34m.\u001B[0m\u001B[0mget\u001B[0m\u001B[0;34m(\u001B[0m\u001B[0;34m\"storage_options\"\u001B[0m\u001B[0;34m,\u001B[0m \u001B[0;32mNone\u001B[0m\u001B[0;34m)\u001B[0m\u001B[0;34m,\u001B[0m\u001B[0;34m\u001B[0m\u001B[0;34m\u001B[0m\u001B[0m\n\u001B[0;32m--> 229\u001B[0;31m             \u001B[0merrors\u001B[0m\u001B[0;34m=\u001B[0m\u001B[0mkwds\u001B[0m\u001B[0;34m.\u001B[0m\u001B[0mget\u001B[0m\u001B[0;34m(\u001B[0m\u001B[0;34m\"encoding_errors\"\u001B[0m\u001B[0;34m,\u001B[0m \u001B[0;34m\"strict\"\u001B[0m\u001B[0;34m)\u001B[0m\u001B[0;34m,\u001B[0m\u001B[0;34m\u001B[0m\u001B[0;34m\u001B[0m\u001B[0m\n\u001B[0m\u001B[1;32m    230\u001B[0m         )\n\u001B[1;32m    231\u001B[0m \u001B[0;34m\u001B[0m\u001B[0m\n",
      "\u001B[0;32m/usr/local/lib/python3.7/dist-packages/pandas/io/common.py\u001B[0m in \u001B[0;36mget_handle\u001B[0;34m(path_or_buf, mode, encoding, compression, memory_map, is_text, errors, storage_options)\u001B[0m\n\u001B[1;32m    705\u001B[0m                 \u001B[0mencoding\u001B[0m\u001B[0;34m=\u001B[0m\u001B[0mioargs\u001B[0m\u001B[0;34m.\u001B[0m\u001B[0mencoding\u001B[0m\u001B[0;34m,\u001B[0m\u001B[0;34m\u001B[0m\u001B[0;34m\u001B[0m\u001B[0m\n\u001B[1;32m    706\u001B[0m                 \u001B[0merrors\u001B[0m\u001B[0;34m=\u001B[0m\u001B[0merrors\u001B[0m\u001B[0;34m,\u001B[0m\u001B[0;34m\u001B[0m\u001B[0;34m\u001B[0m\u001B[0m\n\u001B[0;32m--> 707\u001B[0;31m                 \u001B[0mnewline\u001B[0m\u001B[0;34m=\u001B[0m\u001B[0;34m\"\"\u001B[0m\u001B[0;34m,\u001B[0m\u001B[0;34m\u001B[0m\u001B[0;34m\u001B[0m\u001B[0m\n\u001B[0m\u001B[1;32m    708\u001B[0m             )\n\u001B[1;32m    709\u001B[0m         \u001B[0;32melse\u001B[0m\u001B[0;34m:\u001B[0m\u001B[0;34m\u001B[0m\u001B[0;34m\u001B[0m\u001B[0m\n",
      "\u001B[0;31mFileNotFoundError\u001B[0m: [Errno 2] No such file or directory: 'haine.csv'"
     ]
    }
   ]
  },
  {
   "cell_type": "code",
   "source": [
    "import os\n",
    "import joblib\n",
    "import numpy as np\n",
    "from sklearn.datasets import load_iris\n",
    "from sklearn.ensemble import RandomForestClassifier"
   ],
   "metadata": {
    "id": "tOV_yj0UgE6i"
   },
   "execution_count": null,
   "outputs": []
  },
  {
   "cell_type": "code",
   "source": [
    "dataset.head()"
   ],
   "metadata": {
    "colab": {
     "base_uri": "https://localhost:8080/",
     "height": 206
    },
    "id": "4s-y4PfB98cb",
    "executionInfo": {
     "status": "ok",
     "timestamp": 1655486708518,
     "user_tz": -180,
     "elapsed": 301,
     "user": {
      "displayName": "Rotila Diana",
      "userId": "16213959066184773030"
     }
    },
    "outputId": "3f44f931-f955-4d2b-e23e-2306e0da4906"
   },
   "execution_count": null,
   "outputs": [
    {
     "output_type": "execute_result",
     "data": {
      "text/plain": [
       "   weather  winter  spring  autumn  summer  raining  event  walk  work  \\\n",
       "0        0       0       0       0       0        0      1     0     0   \n",
       "1        0       0       0       0       0        0      0     1     0   \n",
       "2        0       0       0       0       0        0      0     0     1   \n",
       "3        0       0       0       0       0        0      0     0     0   \n",
       "4        1       0       0       0       0        1      1     0     0   \n",
       "\n",
       "   travel  label true_label  \n",
       "0       0      1      dress  \n",
       "1       0      2     tshirt  \n",
       "2       0      3      shirt  \n",
       "3       1      4    trouser  \n",
       "4       0      5       coat  "
      ],
      "text/html": [
       "\n",
       "  <div id=\"df-86355327-e4f7-42a5-9f22-d9fa3b8de0ac\">\n",
       "    <div class=\"colab-df-container\">\n",
       "      <div>\n",
       "<style scoped>\n",
       "    .dataframe tbody tr th:only-of-type {\n",
       "        vertical-align: middle;\n",
       "    }\n",
       "\n",
       "    .dataframe tbody tr th {\n",
       "        vertical-align: top;\n",
       "    }\n",
       "\n",
       "    .dataframe thead th {\n",
       "        text-align: right;\n",
       "    }\n",
       "</style>\n",
       "<table border=\"1\" class=\"dataframe\">\n",
       "  <thead>\n",
       "    <tr style=\"text-align: right;\">\n",
       "      <th></th>\n",
       "      <th>weather</th>\n",
       "      <th>winter</th>\n",
       "      <th>spring</th>\n",
       "      <th>autumn</th>\n",
       "      <th>summer</th>\n",
       "      <th>raining</th>\n",
       "      <th>event</th>\n",
       "      <th>walk</th>\n",
       "      <th>work</th>\n",
       "      <th>travel</th>\n",
       "      <th>label</th>\n",
       "      <th>true_label</th>\n",
       "    </tr>\n",
       "  </thead>\n",
       "  <tbody>\n",
       "    <tr>\n",
       "      <th>0</th>\n",
       "      <td>0</td>\n",
       "      <td>0</td>\n",
       "      <td>0</td>\n",
       "      <td>0</td>\n",
       "      <td>0</td>\n",
       "      <td>0</td>\n",
       "      <td>1</td>\n",
       "      <td>0</td>\n",
       "      <td>0</td>\n",
       "      <td>0</td>\n",
       "      <td>1</td>\n",
       "      <td>dress</td>\n",
       "    </tr>\n",
       "    <tr>\n",
       "      <th>1</th>\n",
       "      <td>0</td>\n",
       "      <td>0</td>\n",
       "      <td>0</td>\n",
       "      <td>0</td>\n",
       "      <td>0</td>\n",
       "      <td>0</td>\n",
       "      <td>0</td>\n",
       "      <td>1</td>\n",
       "      <td>0</td>\n",
       "      <td>0</td>\n",
       "      <td>2</td>\n",
       "      <td>tshirt</td>\n",
       "    </tr>\n",
       "    <tr>\n",
       "      <th>2</th>\n",
       "      <td>0</td>\n",
       "      <td>0</td>\n",
       "      <td>0</td>\n",
       "      <td>0</td>\n",
       "      <td>0</td>\n",
       "      <td>0</td>\n",
       "      <td>0</td>\n",
       "      <td>0</td>\n",
       "      <td>1</td>\n",
       "      <td>0</td>\n",
       "      <td>3</td>\n",
       "      <td>shirt</td>\n",
       "    </tr>\n",
       "    <tr>\n",
       "      <th>3</th>\n",
       "      <td>0</td>\n",
       "      <td>0</td>\n",
       "      <td>0</td>\n",
       "      <td>0</td>\n",
       "      <td>0</td>\n",
       "      <td>0</td>\n",
       "      <td>0</td>\n",
       "      <td>0</td>\n",
       "      <td>0</td>\n",
       "      <td>1</td>\n",
       "      <td>4</td>\n",
       "      <td>trouser</td>\n",
       "    </tr>\n",
       "    <tr>\n",
       "      <th>4</th>\n",
       "      <td>1</td>\n",
       "      <td>0</td>\n",
       "      <td>0</td>\n",
       "      <td>0</td>\n",
       "      <td>0</td>\n",
       "      <td>1</td>\n",
       "      <td>1</td>\n",
       "      <td>0</td>\n",
       "      <td>0</td>\n",
       "      <td>0</td>\n",
       "      <td>5</td>\n",
       "      <td>coat</td>\n",
       "    </tr>\n",
       "  </tbody>\n",
       "</table>\n",
       "</div>\n",
       "      <button class=\"colab-df-convert\" onclick=\"convertToInteractive('df-86355327-e4f7-42a5-9f22-d9fa3b8de0ac')\"\n",
       "              title=\"Convert this dataframe to an interactive table.\"\n",
       "              style=\"display:none;\">\n",
       "        \n",
       "  <svg xmlns=\"http://www.w3.org/2000/svg\" height=\"24px\"viewBox=\"0 0 24 24\"\n",
       "       width=\"24px\">\n",
       "    <path d=\"M0 0h24v24H0V0z\" fill=\"none\"/>\n",
       "    <path d=\"M18.56 5.44l.94 2.06.94-2.06 2.06-.94-2.06-.94-.94-2.06-.94 2.06-2.06.94zm-11 1L8.5 8.5l.94-2.06 2.06-.94-2.06-.94L8.5 2.5l-.94 2.06-2.06.94zm10 10l.94 2.06.94-2.06 2.06-.94-2.06-.94-.94-2.06-.94 2.06-2.06.94z\"/><path d=\"M17.41 7.96l-1.37-1.37c-.4-.4-.92-.59-1.43-.59-.52 0-1.04.2-1.43.59L10.3 9.45l-7.72 7.72c-.78.78-.78 2.05 0 2.83L4 21.41c.39.39.9.59 1.41.59.51 0 1.02-.2 1.41-.59l7.78-7.78 2.81-2.81c.8-.78.8-2.07 0-2.86zM5.41 20L4 18.59l7.72-7.72 1.47 1.35L5.41 20z\"/>\n",
       "  </svg>\n",
       "      </button>\n",
       "      \n",
       "  <style>\n",
       "    .colab-df-container {\n",
       "      display:flex;\n",
       "      flex-wrap:wrap;\n",
       "      gap: 12px;\n",
       "    }\n",
       "\n",
       "    .colab-df-convert {\n",
       "      background-color: #E8F0FE;\n",
       "      border: none;\n",
       "      border-radius: 50%;\n",
       "      cursor: pointer;\n",
       "      display: none;\n",
       "      fill: #1967D2;\n",
       "      height: 32px;\n",
       "      padding: 0 0 0 0;\n",
       "      width: 32px;\n",
       "    }\n",
       "\n",
       "    .colab-df-convert:hover {\n",
       "      background-color: #E2EBFA;\n",
       "      box-shadow: 0px 1px 2px rgba(60, 64, 67, 0.3), 0px 1px 3px 1px rgba(60, 64, 67, 0.15);\n",
       "      fill: #174EA6;\n",
       "    }\n",
       "\n",
       "    [theme=dark] .colab-df-convert {\n",
       "      background-color: #3B4455;\n",
       "      fill: #D2E3FC;\n",
       "    }\n",
       "\n",
       "    [theme=dark] .colab-df-convert:hover {\n",
       "      background-color: #434B5C;\n",
       "      box-shadow: 0px 1px 3px 1px rgba(0, 0, 0, 0.15);\n",
       "      filter: drop-shadow(0px 1px 2px rgba(0, 0, 0, 0.3));\n",
       "      fill: #FFFFFF;\n",
       "    }\n",
       "  </style>\n",
       "\n",
       "      <script>\n",
       "        const buttonEl =\n",
       "          document.querySelector('#df-86355327-e4f7-42a5-9f22-d9fa3b8de0ac button.colab-df-convert');\n",
       "        buttonEl.style.display =\n",
       "          google.colab.kernel.accessAllowed ? 'block' : 'none';\n",
       "\n",
       "        async function convertToInteractive(key) {\n",
       "          const element = document.querySelector('#df-86355327-e4f7-42a5-9f22-d9fa3b8de0ac');\n",
       "          const dataTable =\n",
       "            await google.colab.kernel.invokeFunction('convertToInteractive',\n",
       "                                                     [key], {});\n",
       "          if (!dataTable) return;\n",
       "\n",
       "          const docLinkHtml = 'Like what you see? Visit the ' +\n",
       "            '<a target=\"_blank\" href=https://colab.research.google.com/notebooks/data_table.ipynb>data table notebook</a>'\n",
       "            + ' to learn more about interactive tables.';\n",
       "          element.innerHTML = '';\n",
       "          dataTable['output_type'] = 'display_data';\n",
       "          await google.colab.output.renderOutput(dataTable, element);\n",
       "          const docLink = document.createElement('div');\n",
       "          docLink.innerHTML = docLinkHtml;\n",
       "          element.appendChild(docLink);\n",
       "        }\n",
       "      </script>\n",
       "    </div>\n",
       "  </div>\n",
       "  "
      ]
     },
     "metadata": {},
     "execution_count": 20
    }
   ]
  },
  {
   "cell_type": "code",
   "source": [
    "X = dataset.iloc[:, 1:10].values\n",
    "y = dataset.iloc[:, 10].values"
   ],
   "metadata": {
    "id": "FippL9l7phwK"
   },
   "execution_count": null,
   "outputs": []
  },
  {
   "cell_type": "code",
   "source": [
    "print(X)"
   ],
   "metadata": {
    "colab": {
     "base_uri": "https://localhost:8080/"
    },
    "id": "7qmy4RQppznu",
    "executionInfo": {
     "status": "ok",
     "timestamp": 1655536404180,
     "user_tz": -180,
     "elapsed": 3,
     "user": {
      "displayName": "Rotila Diana",
      "userId": "16213959066184773030"
     }
    },
    "outputId": "d39e63df-e977-45c1-b2d6-2ed453348b87"
   },
   "execution_count": null,
   "outputs": [
    {
     "output_type": "stream",
     "name": "stdout",
     "text": [
      "[[0 0 0 0 0 1 0 0 0]\n",
      " [0 0 0 0 0 0 1 0 0]\n",
      " [0 0 0 0 0 0 0 1 0]\n",
      " [0 0 0 0 0 0 0 0 1]\n",
      " [0 0 0 0 1 1 0 0 0]\n",
      " [1 0 0 0 0 1 0 0 0]\n",
      " [1 0 0 0 0 0 1 0 0]\n",
      " [1 0 0 0 0 0 0 1 0]\n",
      " [1 0 0 0 0 0 0 0 1]\n",
      " [0 1 0 0 0 1 0 0 0]\n",
      " [0 1 0 0 0 0 1 0 0]\n",
      " [0 1 0 0 0 0 0 1 0]\n",
      " [0 1 0 0 0 0 0 0 1]\n",
      " [0 0 1 0 0 1 0 0 0]\n",
      " [0 0 1 0 0 0 1 0 0]\n",
      " [0 0 1 0 0 0 0 1 0]\n",
      " [0 0 1 0 0 0 0 0 1]\n",
      " [0 0 0 1 0 1 0 0 0]\n",
      " [0 0 0 1 0 0 1 0 0]\n",
      " [0 0 0 1 0 0 0 1 0]\n",
      " [0 0 0 1 0 0 0 0 1]\n",
      " [0 0 0 0 1 0 1 0 0]\n",
      " [0 0 0 0 1 0 0 1 0]\n",
      " [0 0 0 0 1 0 0 0 1]]\n"
     ]
    }
   ]
  },
  {
   "cell_type": "code",
   "source": [
    "print(y)"
   ],
   "metadata": {
    "colab": {
     "base_uri": "https://localhost:8080/"
    },
    "id": "U5xQvAYbqhd8",
    "executionInfo": {
     "status": "ok",
     "timestamp": 1655536406629,
     "user_tz": -180,
     "elapsed": 4,
     "user": {
      "displayName": "Rotila Diana",
      "userId": "16213959066184773030"
     }
    },
    "outputId": "ecd1ebfa-3c9e-4969-fd37-a7a15e53c30b"
   },
   "execution_count": null,
   "outputs": [
    {
     "output_type": "stream",
     "name": "stdout",
     "text": [
      "[0 1 2 3 4 4 4 4 4 0 1 2 1 0 1 2 1 0 1 2 0 4 4 4]\n"
     ]
    }
   ]
  },
  {
   "cell_type": "code",
   "source": [
    "from sklearn.model_selection import train_test_split\n",
    "\n",
    "X_train, X_test, y_train, y_test = train_test_split(X, y, test_size=0.2, random_state=0)"
   ],
   "metadata": {
    "id": "E2u8ovy7sqbM"
   },
   "execution_count": null,
   "outputs": []
  },
  {
   "cell_type": "code",
   "source": [
    "# Feature Scaling\n",
    "from sklearn.preprocessing import StandardScaler\n",
    "\n",
    "sc = StandardScaler()\n",
    "X_train = sc.fit_transform(X_train)\n",
    "X_test = sc.transform(X_test)"
   ],
   "metadata": {
    "id": "yo-k7N57uzR1"
   },
   "execution_count": null,
   "outputs": []
  },
  {
   "cell_type": "code",
   "source": [
    "from sklearn.ensemble import RandomForestRegressor\n",
    "\n",
    "regressor = RandomForestRegressor(n_estimators=20, random_state=0)\n",
    "regressor.fit(X_train, y_train)\n",
    "y_pred = regressor.predict(X_test)\n"
   ],
   "metadata": {
    "id": "T7MJ9wFku10r",
    "colab": {
     "base_uri": "https://localhost:8080/",
     "height": 217
    },
    "executionInfo": {
     "status": "error",
     "timestamp": 1656831878154,
     "user_tz": -180,
     "elapsed": 356,
     "user": {
      "displayName": "Rotila Diana",
      "userId": "16213959066184773030"
     }
    },
    "outputId": "489bade4-8aab-4719-c129-6532d8fa5ca1"
   },
   "execution_count": null,
   "outputs": [
    {
     "output_type": "error",
     "ename": "NameError",
     "evalue": "ignored",
     "traceback": [
      "\u001B[0;31m---------------------------------------------------------------------------\u001B[0m",
      "\u001B[0;31mNameError\u001B[0m                                 Traceback (most recent call last)",
      "\u001B[0;32m<ipython-input-3-ea2c99e4aedb>\u001B[0m in \u001B[0;36m<module>\u001B[0;34m()\u001B[0m\n\u001B[1;32m      2\u001B[0m \u001B[0;34m\u001B[0m\u001B[0m\n\u001B[1;32m      3\u001B[0m \u001B[0mregressor\u001B[0m \u001B[0;34m=\u001B[0m \u001B[0mRandomForestRegressor\u001B[0m\u001B[0;34m(\u001B[0m\u001B[0mn_estimators\u001B[0m\u001B[0;34m=\u001B[0m\u001B[0;36m20\u001B[0m\u001B[0;34m,\u001B[0m \u001B[0mrandom_state\u001B[0m\u001B[0;34m=\u001B[0m\u001B[0;36m0\u001B[0m\u001B[0;34m)\u001B[0m\u001B[0;34m\u001B[0m\u001B[0;34m\u001B[0m\u001B[0m\n\u001B[0;32m----> 4\u001B[0;31m \u001B[0mregressor\u001B[0m\u001B[0;34m.\u001B[0m\u001B[0mfit\u001B[0m\u001B[0;34m(\u001B[0m\u001B[0mX_train\u001B[0m\u001B[0;34m,\u001B[0m \u001B[0my_train\u001B[0m\u001B[0;34m)\u001B[0m\u001B[0;34m\u001B[0m\u001B[0;34m\u001B[0m\u001B[0m\n\u001B[0m\u001B[1;32m      5\u001B[0m \u001B[0my_pred\u001B[0m \u001B[0;34m=\u001B[0m \u001B[0mregressor\u001B[0m\u001B[0;34m.\u001B[0m\u001B[0mpredict\u001B[0m\u001B[0;34m(\u001B[0m\u001B[0mX_test\u001B[0m\u001B[0;34m)\u001B[0m\u001B[0;34m\u001B[0m\u001B[0;34m\u001B[0m\u001B[0m\n",
      "\u001B[0;31mNameError\u001B[0m: name 'X_train' is not defined"
     ]
    }
   ]
  },
  {
   "cell_type": "code",
   "source": [
    "#Importing Libraries\n",
    "import numpy as np\n",
    "import pandas as pd\n",
    "from sklearn.model_selection import train_test_split\n",
    "from sklearn.preprocessing import StandardScaler\n",
    "from sklearn.ensemble import RandomForestClassifier\n",
    "from sklearn.metrics import confusion_matrix\n",
    "import joblib\n",
    "print('Libraries Imported')"
   ],
   "metadata": {
    "colab": {
     "base_uri": "https://localhost:8080/"
    },
    "id": "WHQiFUkSwLp7",
    "executionInfo": {
     "status": "ok",
     "timestamp": 1656920499504,
     "user_tz": -180,
     "elapsed": 260,
     "user": {
      "displayName": "Rotila Diana",
      "userId": "16213959066184773030"
     }
    },
    "outputId": "cd2892a9-b55e-4989-ff18-bd5c7090527a"
   },
   "execution_count": 80,
   "outputs": [
    {
     "output_type": "stream",
     "name": "stdout",
     "text": [
      "Libraries Imported\n"
     ]
    }
   ]
  },
  {
   "cell_type": "markdown",
   "source": [
    "MULTICLAS\n"
   ],
   "metadata": {
    "id": "YOpdXFpYwQll"
   }
  },
  {
   "cell_type": "code",
   "source": [
    "dataset = pd.read_csv('haine2.csv', header = 0)\n",
    "# dataset.columns = ['weather', 'winter','spring','autumn','summer', 'raining','event','walk','work','travel','label','actual_label]\n",
    "print('Shape of the dataset: ' + str(dataset.shape))\n",
    "\n"
   ],
   "metadata": {
    "colab": {
     "base_uri": "https://localhost:8080/"
    },
    "id": "nT5DrCVvwoWW",
    "executionInfo": {
     "status": "ok",
     "timestamp": 1656920503783,
     "user_tz": -180,
     "elapsed": 204,
     "user": {
      "displayName": "Rotila Diana",
      "userId": "16213959066184773030"
     }
    },
    "outputId": "4ecb2ca1-95de-4c84-a996-2a6a22b4ad81"
   },
   "execution_count": 81,
   "outputs": [
    {
     "output_type": "stream",
     "name": "stdout",
     "text": [
      "Shape of the dataset: (57, 12)\n"
     ]
    }
   ]
  },
  {
   "cell_type": "code",
   "source": [
    "from sklearn.metrics import confusion_matrix\n",
    "\n"
   ],
   "metadata": {
    "id": "_ZHyo9JXH57P",
    "executionInfo": {
     "status": "ok",
     "timestamp": 1656920512118,
     "user_tz": -180,
     "elapsed": 326,
     "user": {
      "displayName": "Rotila Diana",
      "userId": "16213959066184773030"
     }
    }
   },
   "execution_count": 84,
   "outputs": []
  },
  {
   "cell_type": "code",
   "source": [
    "print(dataset)"
   ],
   "metadata": {
    "colab": {
     "base_uri": "https://localhost:8080/"
    },
    "id": "rWtwTZcjwrX5",
    "executionInfo": {
     "status": "ok",
     "timestamp": 1656920513308,
     "user_tz": -180,
     "elapsed": 350,
     "user": {
      "displayName": "Rotila Diana",
      "userId": "16213959066184773030"
     }
    },
    "outputId": "cdc61ffc-27ba-4227-eac6-815eb69273dd"
   },
   "execution_count": 85,
   "outputs": [
    {
     "output_type": "stream",
     "name": "stdout",
     "text": [
      "    weather  winter  spring  autumn  summer  raining  event  walk  work  \\\n",
      "0         0       0       0       0       0        0      1     0     0   \n",
      "1         0       0       0       0       0        0      0     1     0   \n",
      "2         0       0       0       0       0        0      0     0     1   \n",
      "3         0       0       0       0       0        0      0     0     0   \n",
      "4         1       0       0       0       0        1      1     0     0   \n",
      "5         1       1       0       0       0        0      1     0     0   \n",
      "6         1       1       0       0       0        0      0     1     0   \n",
      "7         1       1       0       0       0        0      0     0     1   \n",
      "8         1       1       0       0       0        0      0     0     0   \n",
      "9         1       0       1       0       0        0      1     0     0   \n",
      "10        1       0       1       0       0        0      0     1     0   \n",
      "11        1       0       1       0       0        0      0     0     1   \n",
      "12        1       0       1       0       0        0      0     0     0   \n",
      "13        1       0       0       1       0        0      1     0     0   \n",
      "14        1       0       0       1       0        0      0     1     0   \n",
      "15        1       0       0       1       0        0      0     0     1   \n",
      "16        1       0       0       1       0        0      0     0     0   \n",
      "17        1       0       0       0       1        0      1     0     0   \n",
      "18        1       0       0       0       1        0      0     1     0   \n",
      "19        1       0       0       0       1        0      0     0     1   \n",
      "20        1       0       0       0       1        0      0     0     0   \n",
      "21        1       0       0       0       0        1      0     1     0   \n",
      "22        1       0       0       0       0        1      0     0     1   \n",
      "23        1       0       0       0       0        1      0     0     0   \n",
      "24        0       0       0       0       0        0      1     0     0   \n",
      "25        0       0       0       0       0        1      0     1     0   \n",
      "26        0       0       0       0       0        0      1     0     0   \n",
      "27        0       0       0       0       0        0      1     0     0   \n",
      "28        1       1       0       0       0        0      1     0     0   \n",
      "29        1       1       0       0       0        0      0     1     0   \n",
      "30        0       0       0       0       0        0      0     0     1   \n",
      "31        1       0       0       0       0        1      0     0     1   \n",
      "32        1       0       0       0       1        0      0     0     1   \n",
      "33        1       0       0       1       0        0      0     0     1   \n",
      "34        1       0       1       0       0        0      0     0     1   \n",
      "35        1       1       0       0       0        0      0     0     1   \n",
      "36        0       0       0       0       0        0      0     0     0   \n",
      "37        1       0       0       0       0        1      0     0     0   \n",
      "38        1       0       0       0       1        0      0     0     0   \n",
      "39        1       0       0       1       0        0      0     0     0   \n",
      "40        1       0       1       0       0        0      0     0     0   \n",
      "41        1       1       0       0       0        0      0     0     0   \n",
      "42        1       0       0       0       1        0      0     0     0   \n",
      "43        1       0       0       1       0        0      0     0     0   \n",
      "44        1       0       1       0       0        0      0     0     0   \n",
      "45        1       1       0       0       0        0      0     0     0   \n",
      "46        0       0       0       0       1        0      0     1     0   \n",
      "47        0       0       0       0       0        0      1     0     0   \n",
      "48        0       0       0       0       0        0      0     1     0   \n",
      "49        0       0       0       0       0        0      0     0     1   \n",
      "50        0       0       0       0       0        0      0     0     0   \n",
      "51        1       0       0       0       1        0      1     0     0   \n",
      "52        1       0       0       0       1        0      0     1     0   \n",
      "53        1       0       0       1       0        0      0     0     1   \n",
      "54        1       0       0       1       0        0      1     0     0   \n",
      "55        1       0       0       1       0        0      0     0     1   \n",
      "56        1       0       0       1       0        0      0     1     0   \n",
      "\n",
      "    travel  label                 actual_label  \n",
      "0        0      0                 dress,sandal  \n",
      "1        0      1       tshirt,trouser,sneaker  \n",
      "2        0      2                shirt,trouser  \n",
      "3        1      3        shirt,trouser,sneaker  \n",
      "4        0      4            dress,sandal,coat  \n",
      "5        0      2                shirt,trouser  \n",
      "6        0      2                shirt,trouser  \n",
      "7        0      2                shirt,trouser  \n",
      "8        1      2                shirt,trouser  \n",
      "9        0      0                 dress,sandal  \n",
      "10       0      5               tshirt,trouser  \n",
      "11       0      5               tshirt,trouser  \n",
      "12       1      5               tshirt,trouser  \n",
      "13       0      0                 dress,sandal  \n",
      "14       0      5               tshirt,trouser  \n",
      "15       0      5               tshirt,trouser  \n",
      "16       1      5               tshirt,trouser  \n",
      "17       0      0                 dress,sandal  \n",
      "18       0      2                shirt,trouser  \n",
      "19       0      2                shirt,trouser  \n",
      "20       1      0                 dress,sandal  \n",
      "21       0      6           shirt,trouser,coat  \n",
      "22       0      6           shirt,trouser,coat  \n",
      "23       1      7          tshirt,trouser,coat  \n",
      "24       0      2                shirt,trouser  \n",
      "25       0      3        shirt,trouser,sneaker  \n",
      "26       0      3        shirt,trouser,sneaker  \n",
      "27       0      0                 dress,sandal  \n",
      "28       0      8        dress,ankle-boot,coat  \n",
      "29       0      9  pullover,trouser, ankleboot  \n",
      "30       0      7          tshirt,trouser,coat  \n",
      "31       0      7          tshirt,trouser,coat  \n",
      "32       0      1       tshirt,trouser,sneaker  \n",
      "33       0      7          tshirt,trouser,coat  \n",
      "34       0      1       tshirt,trouser,sneaker  \n",
      "35       0      9   pullover,trouser,ankleboot  \n",
      "36       1      1       tshirt,trouser,sneaker  \n",
      "37       1      7          tshirt,trouser,coat  \n",
      "38       1      1       tshirt,trouser,sneaker  \n",
      "39       1      7          tshirt,trouser,coat  \n",
      "40       1      7          tshirt,trouser,coat  \n",
      "41       1      9   pullover,trouser,ankleboot  \n",
      "42       1      1       tshirt,trouser,sneaker  \n",
      "43       1      7          tshirt,trouser,coat  \n",
      "44       1      7          tshirt,trouser,coat  \n",
      "45       1      9   pullover,trouser,ankleboot  \n",
      "46       0     10                dress,sneaker  \n",
      "47       0     10                dress,sneaker  \n",
      "48       0      3        shirt,trouser,sneaker  \n",
      "49       0     11         shirt,trouser,sandal  \n",
      "50       1     10               dress, sneaker  \n",
      "51       0      0                 dress,sandal  \n",
      "52       0      2                shirt,trouser  \n",
      "53       0      3        shirt,trouser,sneaker  \n",
      "54       0     12             dress,sandal,bag  \n",
      "55       0      3        shirt,trouser,sneaker  \n",
      "56       0      1       tshirt,trouser,sneaker  \n"
     ]
    }
   ]
  },
  {
   "cell_type": "markdown",
   "source": [
    "#Creating the dependent variable class\n",
    "factor = pd.factorize(dataset['species'])\n",
    "dataset.species = factor[0]\n",
    "definitions = factor[1]\n",
    "print(dataset.species.head())\n",
    "print(definitions)"
   ],
   "metadata": {
    "id": "ui0uYncKwW1D"
   }
  },
  {
   "cell_type": "code",
   "source": [
    "#Creating the dependent variable class\n",
    "factor = pd.factorize(dataset['actual_label'])\n",
    "print(factor)\n",
    "dataset.label = factor[0]\n",
    "print(factor[0])\n",
    "print(\"label\")\n",
    "\n",
    "# definitions = factor[1]\n",
    "# print(\"def\")\n",
    "# print(definitions)"
   ],
   "metadata": {
    "colab": {
     "base_uri": "https://localhost:8080/"
    },
    "id": "2g_PWH4fwdvH",
    "executionInfo": {
     "status": "ok",
     "timestamp": 1656920519252,
     "user_tz": -180,
     "elapsed": 238,
     "user": {
      "displayName": "Rotila Diana",
      "userId": "16213959066184773030"
     }
    },
    "outputId": "57f4e66c-0d19-4247-b8fa-ed7661a93eab"
   },
   "execution_count": 86,
   "outputs": [
    {
     "output_type": "stream",
     "name": "stdout",
     "text": [
      "(array([ 0,  1,  2,  3,  4,  2,  2,  2,  2,  0,  5,  5,  5,  0,  5,  5,  5,\n",
      "        0,  2,  2,  0,  6,  6,  7,  2,  3,  3,  0,  8,  9,  7,  7,  1,  7,\n",
      "        1, 10,  1,  7,  1,  7,  7, 10,  1,  7,  7, 10, 11, 11,  3, 12, 13,\n",
      "        0,  2,  3, 14,  3,  1]), Index(['dress,sandal', 'tshirt,trouser,sneaker', 'shirt,trouser',\n",
      "       'shirt,trouser,sneaker', 'dress,sandal,coat', 'tshirt,trouser',\n",
      "       'shirt,trouser,coat', 'tshirt,trouser,coat', 'dress,ankle-boot,coat',\n",
      "       'pullover,trouser, ankleboot', 'pullover,trouser,ankleboot',\n",
      "       'dress,sneaker', 'shirt,trouser,sandal', 'dress, sneaker',\n",
      "       'dress,sandal,bag'],\n",
      "      dtype='object'))\n",
      "[ 0  1  2  3  4  2  2  2  2  0  5  5  5  0  5  5  5  0  2  2  0  6  6  7\n",
      "  2  3  3  0  8  9  7  7  1  7  1 10  1  7  1  7  7 10  1  7  7 10 11 11\n",
      "  3 12 13  0  2  3 14  3  1]\n",
      "label\n"
     ]
    }
   ]
  },
  {
   "cell_type": "code",
   "source": [
    "print(definitions)"
   ],
   "metadata": {
    "id": "ADYXBFharSsQ",
    "colab": {
     "base_uri": "https://localhost:8080/"
    },
    "executionInfo": {
     "status": "ok",
     "timestamp": 1656920521518,
     "user_tz": -180,
     "elapsed": 201,
     "user": {
      "displayName": "Rotila Diana",
      "userId": "16213959066184773030"
     }
    },
    "outputId": "b5f5d857-4578-45d6-f042-0c836a1851de"
   },
   "execution_count": 87,
   "outputs": [
    {
     "output_type": "stream",
     "name": "stdout",
     "text": [
      "Index(['dress,sandal', 'tshirt,trouser,sneaker', 'shirt,trouser',\n",
      "       'shirt,trouser,sneaker', 'dress,sandal,coat', 'tshirt,trouser',\n",
      "       'shirt,trouser,coat', 'Tshirt,trouser,coat', 'dress,ankleBoot,coat',\n",
      "       'pullover,trouser, ankleboot', 'tshirt,trouser,coat',\n",
      "       'pullover,trouser,ankleboot', 'dress,sneaker', 'shirt,trouser,sandal',\n",
      "       'dress, sneaker', 'dress,sandal,bag'],\n",
      "      dtype='object')\n"
     ]
    }
   ]
  },
  {
   "cell_type": "markdown",
   "source": [
    "Aici cu combinatia de outfituri si label"
   ],
   "metadata": {
    "id": "R2aihiD2g01c"
   }
  },
  {
   "cell_type": "code",
   "source": [
    "X = dataset.iloc[:,0:10].values\n",
    "y = dataset.iloc[:,10].values\n",
    "print('The independent features set: ')\n",
    "print(X[:11,:])\n",
    "print('The dependent variable: ')\n",
    "print(y[:11])"
   ],
   "metadata": {
    "colab": {
     "base_uri": "https://localhost:8080/"
    },
    "id": "9Q7E19FYzfKI",
    "executionInfo": {
     "status": "ok",
     "timestamp": 1656920525216,
     "user_tz": -180,
     "elapsed": 237,
     "user": {
      "displayName": "Rotila Diana",
      "userId": "16213959066184773030"
     }
    },
    "outputId": "78ca5072-aa23-419e-b573-0ab4685d6a38"
   },
   "execution_count": 88,
   "outputs": [
    {
     "output_type": "stream",
     "name": "stdout",
     "text": [
      "The independent features set: \n",
      "[[0 0 0 0 0 0 1 0 0 0]\n",
      " [0 0 0 0 0 0 0 1 0 0]\n",
      " [0 0 0 0 0 0 0 0 1 0]\n",
      " [0 0 0 0 0 0 0 0 0 1]\n",
      " [1 0 0 0 0 1 1 0 0 0]\n",
      " [1 1 0 0 0 0 1 0 0 0]\n",
      " [1 1 0 0 0 0 0 1 0 0]\n",
      " [1 1 0 0 0 0 0 0 1 0]\n",
      " [1 1 0 0 0 0 0 0 0 1]\n",
      " [1 0 1 0 0 0 1 0 0 0]\n",
      " [1 0 1 0 0 0 0 1 0 0]]\n",
      "The dependent variable: \n",
      "[0 1 2 3 4 2 2 2 2 0 5]\n"
     ]
    }
   ]
  },
  {
   "cell_type": "code",
   "source": [
    "# Creating the Training and Test set from data\n",
    "X_train, X_test, y_train, y_test = train_test_split(X, y, test_size = 0.55, random_state = 21)"
   ],
   "metadata": {
    "id": "sCpLEmAYzomh",
    "executionInfo": {
     "status": "ok",
     "timestamp": 1656920535319,
     "user_tz": -180,
     "elapsed": 201,
     "user": {
      "displayName": "Rotila Diana",
      "userId": "16213959066184773030"
     }
    }
   },
   "execution_count": 89,
   "outputs": []
  },
  {
   "cell_type": "code",
   "source": [
    "print(X_train)"
   ],
   "metadata": {
    "colab": {
     "base_uri": "https://localhost:8080/"
    },
    "id": "BkqxTbjdWrhm",
    "executionInfo": {
     "status": "ok",
     "timestamp": 1656920537766,
     "user_tz": -180,
     "elapsed": 211,
     "user": {
      "displayName": "Rotila Diana",
      "userId": "16213959066184773030"
     }
    },
    "outputId": "534bcc1e-f75d-470d-ed4e-c4ae10f0287d"
   },
   "execution_count": 90,
   "outputs": [
    {
     "output_type": "stream",
     "name": "stdout",
     "text": [
      "[[1 0 0 1 0 0 0 0 0 1]\n",
      " [1 0 0 0 1 0 0 0 0 1]\n",
      " [0 0 0 0 0 0 0 0 0 1]\n",
      " [1 1 0 0 0 0 0 1 0 0]\n",
      " [1 0 0 0 1 0 0 1 0 0]\n",
      " [1 0 0 0 0 1 0 0 0 1]\n",
      " [1 1 0 0 0 0 1 0 0 0]\n",
      " [1 0 1 0 0 0 0 0 0 1]\n",
      " [1 1 0 0 0 0 0 0 0 1]\n",
      " [1 0 0 0 1 0 0 0 0 1]\n",
      " [1 0 0 0 1 0 0 0 0 1]\n",
      " [0 0 0 0 0 0 0 0 0 1]\n",
      " [1 1 0 0 0 0 0 0 0 1]\n",
      " [1 0 1 0 0 0 0 0 0 1]\n",
      " [0 0 0 0 1 0 0 1 0 0]\n",
      " [1 1 0 0 0 0 0 0 0 1]\n",
      " [1 0 1 0 0 0 0 1 0 0]\n",
      " [0 0 0 0 0 0 0 0 1 0]\n",
      " [1 0 1 0 0 0 0 0 1 0]\n",
      " [1 1 0 0 0 0 0 0 1 0]\n",
      " [1 0 0 1 0 0 0 0 1 0]\n",
      " [0 0 0 0 0 0 0 1 0 0]\n",
      " [1 0 0 0 0 1 1 0 0 0]\n",
      " [1 0 0 1 0 0 0 0 1 0]\n",
      " [1 0 1 0 0 0 1 0 0 0]]\n"
     ]
    }
   ]
  },
  {
   "cell_type": "code",
   "source": [
    "# Feature Scaling\n",
    "scaler = StandardScaler()\n",
    "X_train = scaler.fit_transform(X_train)\n",
    "X_test = scaler.transform(X_test)"
   ],
   "metadata": {
    "id": "V8tAnBWazq19",
    "executionInfo": {
     "status": "ok",
     "timestamp": 1656920540312,
     "user_tz": -180,
     "elapsed": 220,
     "user": {
      "displayName": "Rotila Diana",
      "userId": "16213959066184773030"
     }
    }
   },
   "execution_count": 91,
   "outputs": []
  },
  {
   "cell_type": "code",
   "source": [
    "print(X_train)\n",
    "print(\"rez\")\n",
    "print(y_train)\n",
    "print(\"e ok\")\n",
    "print(y_test)"
   ],
   "metadata": {
    "colab": {
     "base_uri": "https://localhost:8080/"
    },
    "id": "CY1dJaHKWylM",
    "executionInfo": {
     "status": "ok",
     "timestamp": 1656920541792,
     "user_tz": -180,
     "elapsed": 231,
     "user": {
      "displayName": "Rotila Diana",
      "userId": "16213959066184773030"
     }
    },
    "outputId": "021e30f9-6c02-4b5c-e5ef-a7d62feaeff0"
   },
   "execution_count": 92,
   "outputs": [
    {
     "output_type": "stream",
     "name": "stdout",
     "text": [
      "[[ 0.5        -0.56195149 -0.5         2.7080128  -0.5        -0.29488391\n",
      "  -0.36927447 -0.5        -0.5         1.040833  ]\n",
      " [ 0.5        -0.56195149 -0.5        -0.36927447  2.         -0.29488391\n",
      "  -0.36927447 -0.5        -0.5         1.040833  ]\n",
      " [-2.         -0.56195149 -0.5        -0.36927447 -0.5        -0.29488391\n",
      "  -0.36927447 -0.5        -0.5         1.040833  ]\n",
      " [ 0.5         1.77951304 -0.5        -0.36927447 -0.5        -0.29488391\n",
      "  -0.36927447  2.         -0.5        -0.96076892]\n",
      " [ 0.5        -0.56195149 -0.5        -0.36927447  2.         -0.29488391\n",
      "  -0.36927447  2.         -0.5        -0.96076892]\n",
      " [ 0.5        -0.56195149 -0.5        -0.36927447 -0.5         3.39116499\n",
      "  -0.36927447 -0.5        -0.5         1.040833  ]\n",
      " [ 0.5         1.77951304 -0.5        -0.36927447 -0.5        -0.29488391\n",
      "   2.7080128  -0.5        -0.5        -0.96076892]\n",
      " [ 0.5        -0.56195149  2.         -0.36927447 -0.5        -0.29488391\n",
      "  -0.36927447 -0.5        -0.5         1.040833  ]\n",
      " [ 0.5         1.77951304 -0.5        -0.36927447 -0.5        -0.29488391\n",
      "  -0.36927447 -0.5        -0.5         1.040833  ]\n",
      " [ 0.5        -0.56195149 -0.5        -0.36927447  2.         -0.29488391\n",
      "  -0.36927447 -0.5        -0.5         1.040833  ]\n",
      " [ 0.5        -0.56195149 -0.5        -0.36927447  2.         -0.29488391\n",
      "  -0.36927447 -0.5        -0.5         1.040833  ]\n",
      " [-2.         -0.56195149 -0.5        -0.36927447 -0.5        -0.29488391\n",
      "  -0.36927447 -0.5        -0.5         1.040833  ]\n",
      " [ 0.5         1.77951304 -0.5        -0.36927447 -0.5        -0.29488391\n",
      "  -0.36927447 -0.5        -0.5         1.040833  ]\n",
      " [ 0.5        -0.56195149  2.         -0.36927447 -0.5        -0.29488391\n",
      "  -0.36927447 -0.5        -0.5         1.040833  ]\n",
      " [-2.         -0.56195149 -0.5        -0.36927447  2.         -0.29488391\n",
      "  -0.36927447  2.         -0.5        -0.96076892]\n",
      " [ 0.5         1.77951304 -0.5        -0.36927447 -0.5        -0.29488391\n",
      "  -0.36927447 -0.5        -0.5         1.040833  ]\n",
      " [ 0.5        -0.56195149  2.         -0.36927447 -0.5        -0.29488391\n",
      "  -0.36927447  2.         -0.5        -0.96076892]\n",
      " [-2.         -0.56195149 -0.5        -0.36927447 -0.5        -0.29488391\n",
      "  -0.36927447 -0.5         2.         -0.96076892]\n",
      " [ 0.5        -0.56195149  2.         -0.36927447 -0.5        -0.29488391\n",
      "  -0.36927447 -0.5         2.         -0.96076892]\n",
      " [ 0.5         1.77951304 -0.5        -0.36927447 -0.5        -0.29488391\n",
      "  -0.36927447 -0.5         2.         -0.96076892]\n",
      " [ 0.5        -0.56195149 -0.5         2.7080128  -0.5        -0.29488391\n",
      "  -0.36927447 -0.5         2.         -0.96076892]\n",
      " [-2.         -0.56195149 -0.5        -0.36927447 -0.5        -0.29488391\n",
      "  -0.36927447  2.         -0.5        -0.96076892]\n",
      " [ 0.5        -0.56195149 -0.5        -0.36927447 -0.5         3.39116499\n",
      "   2.7080128  -0.5        -0.5        -0.96076892]\n",
      " [ 0.5        -0.56195149 -0.5         2.7080128  -0.5        -0.29488391\n",
      "  -0.36927447 -0.5         2.         -0.96076892]\n",
      " [ 0.5        -0.56195149  2.         -0.36927447 -0.5        -0.29488391\n",
      "   2.7080128  -0.5        -0.5        -0.96076892]]\n",
      "rez\n",
      "[ 5  1 13  2  2  7  2  5 10  0  1  1 10  7 11  2  5 12  1 10  3  3  4  5\n",
      "  0]\n",
      "e ok\n",
      "[ 2  2 11  3  5  2  7  7  0 14  7  6  2  5  6  7  0  0  8  1  7  0  3  7\n",
      "  9  7  1  0  2  1  3  3]\n"
     ]
    }
   ]
  },
  {
   "cell_type": "code",
   "source": [
    "# Fitting Random Forest Classification to the Training set\n",
    "classifier = RandomForestClassifier(n_estimators = 10, criterion = 'entropy', random_state = 42)\n",
    "classifier.fit(X_train, y_train)\n",
    "# rf = RandomForestClassifier()\n",
    "# rf.fit(X,y)"
   ],
   "metadata": {
    "colab": {
     "base_uri": "https://localhost:8080/"
    },
    "id": "wITr2HHP1j13",
    "executionInfo": {
     "status": "ok",
     "timestamp": 1656920551665,
     "user_tz": -180,
     "elapsed": 4,
     "user": {
      "displayName": "Rotila Diana",
      "userId": "16213959066184773030"
     }
    },
    "outputId": "78534146-6510-4b02-e0be-6155d3b0f521"
   },
   "execution_count": 93,
   "outputs": [
    {
     "output_type": "execute_result",
     "data": {
      "text/plain": [
       "RandomForestClassifier(criterion='entropy', n_estimators=10, random_state=42)"
      ]
     },
     "metadata": {},
     "execution_count": 93
    }
   ]
  },
  {
   "cell_type": "code",
   "source": [
    "classifier.predict(X)"
   ],
   "metadata": {
    "colab": {
     "base_uri": "https://localhost:8080/"
    },
    "id": "A9COgnRYgZbY",
    "executionInfo": {
     "status": "ok",
     "timestamp": 1656920555563,
     "user_tz": -180,
     "elapsed": 208,
     "user": {
      "displayName": "Rotila Diana",
      "userId": "16213959066184773030"
     }
    },
    "outputId": "7363835d-f8a2-486a-a945-07ddd467eee8"
   },
   "execution_count": 94,
   "outputs": [
    {
     "output_type": "execute_result",
     "data": {
      "text/plain": [
       "array([ 0,  5,  5,  5,  0, 10,  2, 10, 10,  0,  5,  1,  7,  0,  5,  5,  5,\n",
       "        1,  2,  1,  1,  5,  5,  5,  0,  5,  0,  0, 10,  2,  5,  5,  1,  5,\n",
       "        1, 10,  5,  5,  1,  5,  7, 10,  1,  5,  7, 10,  2,  0,  5,  5,  5,\n",
       "        1,  2,  5,  0,  5,  5])"
      ]
     },
     "metadata": {},
     "execution_count": 94
    }
   ]
  },
  {
   "cell_type": "code",
   "source": [
    "# Predicting the Test set results\n",
    "y_pred = classifier.predict(X_test)\n",
    "#Reverse factorize (converting y_pred from 0s,1s and 2s to Iris-setosa, Iris-versicolor and Iris-virginica\n",
    "# reversefactor = dict(zip(range(10),definitions))\n",
    "print(\"what is predicted\") \n",
    "print(y_pred)\n",
    "print(\"from what\")\n",
    "print(y_test)\n",
    "# print(pd.crosstab(y_test, y_pred, rownames=['Actual Species'], colnames=['Predicted Species']))"
   ],
   "metadata": {
    "colab": {
     "base_uri": "https://localhost:8080/"
    },
    "id": "I3DKim4_1oR8",
    "executionInfo": {
     "status": "ok",
     "timestamp": 1656920558796,
     "user_tz": -180,
     "elapsed": 215,
     "user": {
      "displayName": "Rotila Diana",
      "userId": "16213959066184773030"
     }
    },
    "outputId": "ed743904-d714-4502-a435-8d349b2c6f10"
   },
   "execution_count": 95,
   "outputs": [
    {
     "output_type": "stream",
     "name": "stdout",
     "text": [
      "what is predicted\n",
      "[10  2 12  3  5 12  7  3  1  0 12  2  1  1  3  5 12  0  2  5  7  1  5  5\n",
      "  2  5  3 12 12  1  1 12]\n",
      "from what\n",
      "[ 2  2 11  3  5  2  7  7  0 14  7  6  2  5  6  7  0  0  8  1  7  0  3  7\n",
      "  9  7  1  0  2  1  3  3]\n"
     ]
    }
   ]
  },
  {
   "cell_type": "code",
   "source": [
    "classifier.predict([[0, 0, 0, 0,0,0,1,0,0,0]])"
   ],
   "metadata": {
    "colab": {
     "base_uri": "https://localhost:8080/"
    },
    "id": "-ONyQGm7VofD",
    "executionInfo": {
     "status": "ok",
     "timestamp": 1656920562534,
     "user_tz": -180,
     "elapsed": 227,
     "user": {
      "displayName": "Rotila Diana",
      "userId": "16213959066184773030"
     }
    },
    "outputId": "10d578c1-a5df-4bbe-f158-aa716fb912b8"
   },
   "execution_count": 96,
   "outputs": [
    {
     "output_type": "execute_result",
     "data": {
      "text/plain": [
       "array([0])"
      ]
     },
     "metadata": {},
     "execution_count": 96
    }
   ]
  },
  {
   "cell_type": "code",
   "source": [
    "joblib.dump(classifier, \"./random_forest.joblib\")"
   ],
   "metadata": {
    "colab": {
     "base_uri": "https://localhost:8080/"
    },
    "id": "Xeh5j3-1rTqu",
    "executionInfo": {
     "status": "ok",
     "timestamp": 1656920564671,
     "user_tz": -180,
     "elapsed": 203,
     "user": {
      "displayName": "Rotila Diana",
      "userId": "16213959066184773030"
     }
    },
    "outputId": "4ad34b1a-c853-4a4a-c1f3-0e4b60b9b592"
   },
   "execution_count": 97,
   "outputs": [
    {
     "output_type": "execute_result",
     "data": {
      "text/plain": [
       "['./random_forest.joblib']"
      ]
     },
     "metadata": {},
     "execution_count": 97
    }
   ]
  },
  {
   "cell_type": "code",
   "source": [
    "loaded_classifier = joblib.load(\"./random_forest.joblib\")"
   ],
   "metadata": {
    "id": "xrF6aA-Frd4I",
    "executionInfo": {
     "status": "ok",
     "timestamp": 1656920566127,
     "user_tz": -180,
     "elapsed": 196,
     "user": {
      "displayName": "Rotila Diana",
      "userId": "16213959066184773030"
     }
    }
   },
   "execution_count": 98,
   "outputs": []
  },
  {
   "cell_type": "code",
   "source": [
    "loaded_classifier.predict([[0, 0, 0, 0,0,0,1,0,0,0]])"
   ],
   "metadata": {
    "colab": {
     "base_uri": "https://localhost:8080/"
    },
    "id": "dJiEGXOJsG3O",
    "executionInfo": {
     "status": "ok",
     "timestamp": 1656920567328,
     "user_tz": -180,
     "elapsed": 227,
     "user": {
      "displayName": "Rotila Diana",
      "userId": "16213959066184773030"
     }
    },
    "outputId": "96aab717-740a-48c3-dd6e-4f9fea260c08"
   },
   "execution_count": 99,
   "outputs": [
    {
     "output_type": "execute_result",
     "data": {
      "text/plain": [
       "array([0])"
      ]
     },
     "metadata": {},
     "execution_count": 99
    }
   ]
  },
  {
   "cell_type": "code",
   "source": [
    "loaded_classifier.predict([[1, 1, 0, 0,0,0,0,1,0,0]])"
   ],
   "metadata": {
    "colab": {
     "base_uri": "https://localhost:8080/"
    },
    "id": "t10u8teMtphI",
    "executionInfo": {
     "status": "ok",
     "timestamp": 1656920568926,
     "user_tz": -180,
     "elapsed": 217,
     "user": {
      "displayName": "Rotila Diana",
      "userId": "16213959066184773030"
     }
    },
    "outputId": "a815cb26-0fb6-4b95-854c-7e3df46ddc88"
   },
   "execution_count": 100,
   "outputs": [
    {
     "output_type": "execute_result",
     "data": {
      "text/plain": [
       "array([2])"
      ]
     },
     "metadata": {},
     "execution_count": 100
    }
   ]
  },
  {
   "cell_type": "code",
   "source": [
    " from sklearn.metrics import confusion_matrix"
   ],
   "metadata": {
    "id": "iTBF9G4q3eo9",
    "executionInfo": {
     "status": "ok",
     "timestamp": 1656920570396,
     "user_tz": -180,
     "elapsed": 335,
     "user": {
      "displayName": "Rotila Diana",
      "userId": "16213959066184773030"
     }
    }
   },
   "execution_count": 101,
   "outputs": []
  },
  {
   "cell_type": "markdown",
   "source": [
    "Plot"
   ],
   "metadata": {
    "id": "hBRv4APE3gq5"
   }
  },
  {
   "cell_type": "code",
   "source": [
    "y_true = [2, 0, 2, 2, 0, 1]\n",
    "y_pred = [0, 0, 2, 2, 0, 2]\n",
    "confusion_matrix(y_true, y_pred)"
   ],
   "metadata": {
    "id": "gSaBxy6y30_-",
    "colab": {
     "base_uri": "https://localhost:8080/"
    },
    "executionInfo": {
     "status": "ok",
     "timestamp": 1656920571691,
     "user_tz": -180,
     "elapsed": 209,
     "user": {
      "displayName": "Rotila Diana",
      "userId": "16213959066184773030"
     }
    },
    "outputId": "fadf1ea4-4ff9-4c73-8399-c9d741c1af39"
   },
   "execution_count": 102,
   "outputs": [
    {
     "output_type": "execute_result",
     "data": {
      "text/plain": [
       "array([[2, 0, 0],\n",
       "       [0, 0, 1],\n",
       "       [1, 0, 2]])"
      ]
     },
     "metadata": {},
     "execution_count": 102
    }
   ]
  },
  {
   "cell_type": "code",
   "source": [
    "from sklearn.metrics import confusion_matrix, ConfusionMatrixDisplay"
   ],
   "metadata": {
    "id": "uHMfmWOKS-Q0",
    "executionInfo": {
     "status": "ok",
     "timestamp": 1656920573003,
     "user_tz": -180,
     "elapsed": 213,
     "user": {
      "displayName": "Rotila Diana",
      "userId": "16213959066184773030"
     }
    }
   },
   "execution_count": 103,
   "outputs": []
  },
  {
   "cell_type": "code",
   "source": [
    "predictions = classifier.predict(X_test)\n",
    "cm = confusion_matrix(y_test, predictions, labels=classifier.classes_)\n",
    "disp = ConfusionMatrixDisplay(confusion_matrix=cm,\n",
    "                            display_labels=y_test)"
   ],
   "metadata": {
    "id": "9Sot6Trq3hj-",
    "executionInfo": {
     "status": "ok",
     "timestamp": 1656920574148,
     "user_tz": -180,
     "elapsed": 207,
     "user": {
      "displayName": "Rotila Diana",
      "userId": "16213959066184773030"
     }
    }
   },
   "execution_count": 104,
   "outputs": []
  },
  {
   "cell_type": "markdown",
   "source": [
    "from sklearn.metrics import confusion_matrix, ConfusionMatrixDisplay"
   ],
   "metadata": {
    "id": "GnnETzDBS8iw"
   }
  },
  {
   "cell_type": "code",
   "source": [
    "disp.plot()\n"
   ],
   "metadata": {
    "colab": {
     "base_uri": "https://localhost:8080/",
     "height": 301
    },
    "id": "44bp5YTdTenz",
    "executionInfo": {
     "status": "ok",
     "timestamp": 1656920576235,
     "user_tz": -180,
     "elapsed": 1004,
     "user": {
      "displayName": "Rotila Diana",
      "userId": "16213959066184773030"
     }
    },
    "outputId": "1315afc1-e3d3-4b4c-b677-265db8023f6c"
   },
   "execution_count": 105,
   "outputs": [
    {
     "output_type": "execute_result",
     "data": {
      "text/plain": [
       "<sklearn.metrics._plot.confusion_matrix.ConfusionMatrixDisplay at 0x7f277676c6d0>"
      ]
     },
     "metadata": {},
     "execution_count": 105
    },
    {
     "output_type": "display_data",
     "data": {
      "text/plain": [
       "<Figure size 432x288 with 2 Axes>"
      ],
      "image/png": "[encoded data removed]"
     },
     "metadata": {
      "needs_background": "light"
     }
    }
   ]
  },
  {
   "cell_type": "code",
   "source": [],
   "metadata": {
    "id": "cwCTbi5STjfx"
   },
   "execution_count": null,
   "outputs": []
  }
 ]
}
